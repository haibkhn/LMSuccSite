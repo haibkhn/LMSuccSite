{
 "cells": [
  {
   "cell_type": "code",
   "execution_count": 2,
   "metadata": {},
   "outputs": [
    {
     "data": {
      "text/plain": [
       "label       2737\n",
       "entry       2737\n",
       "pos         2737\n",
       "sequence    2737\n",
       "phi         2737\n",
       "psi         2737\n",
       "omega       2737\n",
       "tau         2737\n",
       "chi1        2737\n",
       "chi2        2737\n",
       "chi3        2737\n",
       "chi4        2737\n",
       "sasa        2737\n",
       "ss          2737\n",
       "plDDT       2737\n",
       "dtype: int64"
      ]
     },
     "execution_count": 2,
     "metadata": {},
     "output_type": "execute_result"
    }
   ],
   "source": [
    "import pandas as pd\n",
    "import numpy as np\n",
    "\n",
    "# Load the data\n",
    "data = pd.read_csv('processed_data_test_after.csv')\n",
    "data.count()"
   ]
  },
  {
   "cell_type": "code",
   "execution_count": 3,
   "metadata": {},
   "outputs": [
    {
     "data": {
      "text/plain": [
       "271"
      ]
     },
     "execution_count": 3,
     "metadata": {},
     "output_type": "execute_result"
    }
   ],
   "source": [
    "# Count number of sequence that contains - in the sequence\n",
    "data['sequence'].str.contains('-').sum()"
   ]
  },
  {
   "cell_type": "code",
   "execution_count": 4,
   "metadata": {},
   "outputs": [
    {
     "data": {
      "text/plain": [
       "859"
      ]
     },
     "execution_count": 4,
     "metadata": {},
     "output_type": "execute_result"
    }
   ],
   "source": [
    "data_train = pd.read_csv('processed_data_train_after.csv')\n",
    "data_train.count()\n",
    "data_train['sequence'].str.contains('-').sum()"
   ]
  },
  {
   "cell_type": "code",
   "execution_count": 5,
   "metadata": {},
   "outputs": [
    {
     "data": {
      "text/plain": [
       "label       8850\n",
       "entry       8850\n",
       "pos         8850\n",
       "sequence    8850\n",
       "phi         8850\n",
       "psi         8850\n",
       "omega       8850\n",
       "tau         8850\n",
       "chi1        8850\n",
       "chi2        8850\n",
       "chi3        8850\n",
       "chi4        8850\n",
       "sasa        8850\n",
       "ss          8850\n",
       "plDDT       8850\n",
       "dtype: int64"
      ]
     },
     "execution_count": 5,
     "metadata": {},
     "output_type": "execute_result"
    }
   ],
   "source": [
    "data_train.count()"
   ]
  }
 ],
 "metadata": {
  "kernelspec": {
   "display_name": "bioinf",
   "language": "python",
   "name": "python3"
  },
  "language_info": {
   "codemirror_mode": {
    "name": "ipython",
    "version": 3
   },
   "file_extension": ".py",
   "mimetype": "text/x-python",
   "name": "python",
   "nbconvert_exporter": "python",
   "pygments_lexer": "ipython3",
   "version": "3.9.19"
  }
 },
 "nbformat": 4,
 "nbformat_minor": 2
}
